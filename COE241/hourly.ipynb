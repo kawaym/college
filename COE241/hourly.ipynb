{
 "cells": [
  {
   "cell_type": "code",
   "execution_count": null,
   "metadata": {},
   "outputs": [],
   "source": [
    "import pandas as pd \n",
    "import matplotlib.pyplot as plt \n",
    "import math\n",
    "import scipy\n",
    "\n",
    "dataset_chromecast = pd.read_csv('dataset_chromecast.csv')\n",
    "dataset_smarttv = pd.read_csv('dataset_smart-tv.csv')\n",
    "\n",
    "dataset_chromecast['hour'] = dataset_chromecast['date_hour'].apply(lambda x: int(x.split(\" \")[1].split(\":\")[0]))\n",
    "dataset_chromecast['bytes_up'] = dataset_chromecast['bytes_up'].apply(lambda x: math.log(x, 10) if x != 0 else 0)\n",
    "dataset_chromecast['bytes_down'] = dataset_chromecast['bytes_down'].apply(lambda x: math.log(x, 10) if x != 0 else 0)\n",
    "dataset_smarttv['hour'] = dataset_smarttv['date_hour'].apply(lambda x: int(x.split(\" \")[1].split(\":\")[0]))\n",
    "dataset_smarttv['bytes_up'] = dataset_smarttv['bytes_up'].apply(lambda x: math.log(x, 10) if x != 0 else 0)\n",
    "dataset_smarttv['bytes_down'] = dataset_smarttv['bytes_down'].apply(lambda x: math.log(x, 10) if x != 0 else 0)"
   ]
  },
  {
   "cell_type": "code",
   "execution_count": null,
   "metadata": {},
   "outputs": [],
   "source": [
    "fig, ax = plt.subplots(figsize=(12,6))\n",
    "\n",
    "boxplot = dataset_chromecast.boxplot(column=\"bytes_down\", by=\"hour\", ax=ax)\n",
    "\n",
    "plt.ylabel(\"Download (Chromecast)\")\n",
    "plt.xlabel(\"Hora\")\n",
    "\n",
    "fig, ax = plt.subplots(figsize=(12,6))\n",
    "\n",
    "boxplot = dataset_chromecast.boxplot(column=\"bytes_up\", by=\"hour\", ax=ax)\n",
    "\n",
    "plt.ylabel(\"Upload (Chromecast)\")\n",
    "plt.xlabel(\"Hora\")"
   ]
  },
  {
   "cell_type": "code",
   "execution_count": null,
   "metadata": {},
   "outputs": [],
   "source": [
    "fig, ax = plt.subplots(figsize=(12,6))\n",
    "\n",
    "boxplot = dataset_smarttv.boxplot(column=\"bytes_down\", by=\"hour\", ax=ax)\n",
    "\n",
    "plt.ylabel(\"Download (Smart TV)\")\n",
    "plt.xlabel(\"Hora\")\n",
    "\n",
    "fig, ax = plt.subplots(figsize=(12,6))\n",
    "\n",
    "boxplot = dataset_smarttv.boxplot(column=\"bytes_up\", by=\"hour\", ax=ax)\n",
    "\n",
    "plt.ylabel(\"Upload (Smart TV)\")\n",
    "plt.xlabel(\"Hora\")"
   ]
  },
  {
   "cell_type": "code",
   "execution_count": null,
   "metadata": {},
   "outputs": [],
   "source": [
    "print(\"Média por Hora\")\n",
    "mean_down_chromecast = dataset_chromecast.groupby('hour')['bytes_down'].mean()\n",
    "print(\"Download (Chromecast): \", mean_down_chromecast)\n",
    "print(\"Max Download (Chromecast): \", max(mean_down_chromecast))\n",
    "mean_up_chromecast = dataset_chromecast.groupby('hour')['bytes_up'].mean()\n",
    "print(\"Upload (Chromecast): \", mean_up_chromecast)\n",
    "print(\"Max Upload (Chromecast): \", max(mean_up_chromecast))\n",
    "mean_down_smarttv = dataset_smarttv.groupby('hour')['bytes_down'].mean()\n",
    "print(\"Download (Smart TV): \", mean_down_smarttv)\n",
    "print(\"Max Download (Smart TV): \", max(mean_down_smarttv))\n",
    "mean_up_smarttv = dataset_smarttv.groupby('hour')['bytes_up'].mean()\n",
    "print(\"Upload (Smart TV): \", mean_up_smarttv)\n",
    "print(\"Max Upload (Smart TV): \", max(mean_up_smarttv))"
   ]
  },
  {
   "cell_type": "code",
   "execution_count": null,
   "metadata": {},
   "outputs": [],
   "source": [
    "print(\"Variância por Hora\")\n",
    "var_down_chromecast = dataset_chromecast.groupby('hour')['bytes_down'].var()\n",
    "print(\"Download (Chromecast): \", var_down_chromecast)\n",
    "var_up_chromecast = dataset_chromecast.groupby('hour')['bytes_up'].var()\n",
    "print(\"Upload (Chromecast): \", var_up_chromecast)\n",
    "var_down_smarttv = dataset_smarttv.groupby('hour')['bytes_down'].var()\n",
    "print(\"Download (Smart TV): \", var_down_smarttv)\n",
    "var_up_smarttv = dataset_smarttv.groupby('hour')['bytes_up'].var()\n",
    "print(\"Upload (Smart TV): \", var_up_smarttv)\n"
   ]
  },
  {
   "cell_type": "code",
   "execution_count": null,
   "metadata": {},
   "outputs": [],
   "source": [
    "print(\"Desvio Padrão por Hora\")\n",
    "std_down_chromecast = dataset_chromecast.groupby('hour')['bytes_down'].std()\n",
    "print(\"Download (Chromecast): \", std_down_chromecast)\n",
    "std_up_chromecast = dataset_chromecast.groupby('hour')['bytes_up'].std()\n",
    "print(\"Upload (Chromecast): \", std_up_chromecast)\n",
    "std_down_smarttv = dataset_smarttv.groupby('hour')['bytes_down'].std()\n",
    "print(\"Download (Smart TV): \", std_down_smarttv)\n",
    "std_up_smarttv = dataset_smarttv.groupby('hour')['bytes_up'].std()\n",
    "print(\"Upload (Smart TV): \", std_up_smarttv)"
   ]
  },
  {
   "cell_type": "code",
   "execution_count": null,
   "metadata": {},
   "outputs": [],
   "source": [
    "plt.figure(figsize=(12, 6))\n",
    "plt.plot(dataset_chromecast.groupby('hour')['bytes_down'].mean(), label=\"Média - Chromecast Download\")\n",
    "plt.plot(dataset_chromecast.groupby('hour')['bytes_down'].var(), label=\"Variância - Chromecast Download\")\n",
    "plt.plot(dataset_chromecast.groupby('hour')['bytes_down'].std(), label=\"Desvio Padrão - Chromecast Download\")\n",
    "plt.title('Chromecast - Download')\n",
    "plt.xlabel('Hora')\n",
    "plt.ylabel('Valores')\n",
    "plt.legend()"
   ]
  },
  {
   "cell_type": "code",
   "execution_count": null,
   "metadata": {},
   "outputs": [],
   "source": [
    "plt.figure(figsize=(12, 6))\n",
    "plt.plot(dataset_chromecast.groupby('hour')['bytes_up'].mean(), label=\"Média - Chromecast Upload\")\n",
    "plt.plot(dataset_chromecast.groupby('hour')['bytes_up'].var(), label=\"Variância - Chromecast Upload\")\n",
    "plt.plot(dataset_chromecast.groupby('hour')['bytes_up'].std(), label=\"Desvio Padrão - Chromecast Upload\")\n",
    "plt.title('Chromecast - Upload')\n",
    "plt.xlabel('Hora')\n",
    "plt.ylabel('Valores')\n",
    "plt.legend()"
   ]
  },
  {
   "cell_type": "code",
   "execution_count": null,
   "metadata": {},
   "outputs": [],
   "source": [
    "plt.figure(figsize=(12, 6))\n",
    "plt.plot(dataset_smarttv.groupby('hour')['bytes_down'].mean(), label=\"Média - Smart TV Download\")\n",
    "plt.plot(dataset_smarttv.groupby('hour')['bytes_down'].var(), label=\"Variância - Smart TV Download\")\n",
    "plt.plot(dataset_smarttv.groupby('hour')['bytes_down'].std(), label=\"Desvio Padrão - Smart TV Download\")\n",
    "plt.title('Smart TV Download')\n",
    "plt.xlabel('Hora')\n",
    "plt.ylabel('Valores')\n",
    "plt.legend()"
   ]
  },
  {
   "cell_type": "code",
   "execution_count": null,
   "metadata": {},
   "outputs": [],
   "source": [
    "plt.figure(figsize=(12, 6))\n",
    "plt.plot(dataset_smarttv.groupby('hour')['bytes_up'].mean(), label=\"Média - Smart TV Upload\")\n",
    "plt.plot(dataset_smarttv.groupby('hour')['bytes_up'].var(), label=\"Variância - Smart TV Upload\")\n",
    "plt.plot(dataset_smarttv.groupby('hour')['bytes_up'].std(), label=\"Desvio Padrão - Smart TV Upload\")\n",
    "plt.title('Smart TV Upload')\n",
    "plt.xlabel('Hora')\n",
    "plt.ylabel('Valores')\n",
    "plt.legend()"
   ]
  }
 ],
 "metadata": {
  "kernelspec": {
   "display_name": "Python 3",
   "language": "python",
   "name": "python3"
  },
  "language_info": {
   "codemirror_mode": {
    "name": "ipython",
    "version": 3
   },
   "file_extension": ".py",
   "mimetype": "text/x-python",
   "name": "python",
   "nbconvert_exporter": "python",
   "pygments_lexer": "ipython3",
   "version": "3.12.1"
  }
 },
 "nbformat": 4,
 "nbformat_minor": 2
}
