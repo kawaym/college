{
 "cells": [
  {
   "cell_type": "code",
   "execution_count": null,
   "metadata": {},
   "outputs": [],
   "source": [
    "import pandas as pd \n",
    "import matplotlib.pyplot as plt \n",
    "import math\n",
    "import scipy\n",
    "\n",
    "dataset_chromecast = pd.read_csv('dataset_chromecast.csv')\n",
    "dataset_smarttv = pd.read_csv('dataset_smart-tv.csv')\n",
    "\n",
    "dataset_chromecast['date_hour'] = pd.to_datetime(dataset_chromecast['date_hour'])\n",
    "dataset_chromecast['bytes_up'] = dataset_chromecast['bytes_up'].apply(lambda x: math.log(x, 10) if x != 0 else 0)\n",
    "dataset_chromecast['bytes_down'] = dataset_chromecast['bytes_down'].apply(lambda x: math.log(x, 10) if x != 0 else 0)\n",
    "dataset_smarttv['date_hour'] = pd.to_datetime(dataset_smarttv['date_hour'])\n",
    "dataset_smarttv['bytes_up'] = dataset_smarttv['bytes_up'].apply(lambda x: math.log(x, 10) if x != 0 else 0)\n",
    "dataset_smarttv['bytes_down'] = dataset_smarttv['bytes_down'].apply(lambda x: math.log(x, 10) if x != 0 else 0)"
   ]
  },
  {
   "cell_type": "code",
   "execution_count": null,
   "metadata": {},
   "outputs": [],
   "source": [
    "bins = math.ceil(1 + 3.322 * math.log(dataset_chromecast['bytes_up'].shape[0], 10))\n",
    "plt.hist(dataset_chromecast['bytes_up'], bins=bins, color='blue', alpha=0.7, label=\"Bytes Up\")\n",
    "\n",
    "plt.xlabel('Quantidade de Bytes')\n",
    "plt.ylabel('Frequência')\n",
    "plt.title('Histograma de Bytes Enviados por Chromecast')\n",
    "\n",
    "plt.legend()\n",
    "\n",
    "plt.show()"
   ]
  },
  {
   "cell_type": "code",
   "execution_count": null,
   "metadata": {},
   "outputs": [],
   "source": [
    "bins = math.ceil(1 + 3.322 * math.log(dataset_chromecast['bytes_down'].shape[0], 10))\n",
    "plt.hist(dataset_chromecast['bytes_down'], bins=bins, color='blue', alpha=0.7, label=\"Bytes Down\")\n",
    "\n",
    "plt.xlabel('Quantidade de Bytes')\n",
    "plt.ylabel('Frequência')\n",
    "plt.title('Histograma de Bytes Recebidos por Chromecast')\n",
    "\n",
    "plt.legend()\n",
    "\n",
    "plt.show()"
   ]
  },
  {
   "cell_type": "code",
   "execution_count": null,
   "metadata": {},
   "outputs": [],
   "source": [
    "bins_tv = math.ceil(1 + 3.322 * math.log(dataset_smarttv['bytes_up'].shape[0], 10))\n",
    "plt.hist(dataset_smarttv['bytes_up'], bins=bins_tv, color='blue', alpha=0.7, label=\"Bytes Up\")\n",
    "\n",
    "plt.xlabel('Quantidade de Bytes')\n",
    "plt.ylabel('Frequência')\n",
    "plt.title('Histograma de Bytes Enviados por Smart TV')\n",
    "\n",
    "plt.legend()\n",
    "\n",
    "plt.show()"
   ]
  },
  {
   "cell_type": "code",
   "execution_count": null,
   "metadata": {},
   "outputs": [],
   "source": [
    "bins_tv = math.ceil(1 + 3.322 * math.log(dataset_smarttv['bytes_down'].shape[0], 10))\n",
    "plt.hist(dataset_smarttv['bytes_down'], bins=bins_tv, color='blue', alpha=0.7, label=\"Bytes Down\")\n",
    "\n",
    "plt.xlabel('Quantidade de Bytes')\n",
    "plt.ylabel('Frequência')\n",
    "plt.title('Histograma de Bytes Recebidos por Smart TV')\n",
    "\n",
    "plt.legend()\n",
    "\n",
    "plt.show()"
   ]
  },
  {
   "cell_type": "code",
   "execution_count": null,
   "metadata": {},
   "outputs": [],
   "source": [
    "empiric_down_chromecast = scipy.stats.ecdf(dataset_chromecast['bytes_down'])\n",
    "plt.figure()\n",
    "ax = plt.subplot()\n",
    "empiric_down_chromecast.cdf.plot(ax)\n",
    "ax.set_xlabel(\"Download (Chromecast)\")\n",
    "ax.set_ylabel(\"Função Distribuição Empírica\")"
   ]
  },
  {
   "cell_type": "code",
   "execution_count": null,
   "metadata": {},
   "outputs": [],
   "source": [
    "empiric_up_chromecast = scipy.stats.ecdf(dataset_chromecast['bytes_up'])\n",
    "plt.figure()\n",
    "ax = plt.subplot()\n",
    "empiric_up_chromecast.cdf.plot(ax)\n",
    "ax.set_xlabel(\"Upload (Chromecast)\")\n",
    "ax.set_ylabel(\"Função Distribuição Empírica\")"
   ]
  },
  {
   "cell_type": "code",
   "execution_count": null,
   "metadata": {},
   "outputs": [],
   "source": [
    "empiric_down_smarttv = scipy.stats.ecdf(dataset_smarttv['bytes_down'])\n",
    "plt.figure()\n",
    "ax = plt.subplot()\n",
    "empiric_down_smarttv.cdf.plot(ax)\n",
    "ax.set_xlabel(\"Download (Smart TV)\")\n",
    "ax.set_ylabel(\"Função Distribuição Empírica\")"
   ]
  },
  {
   "cell_type": "code",
   "execution_count": null,
   "metadata": {},
   "outputs": [],
   "source": [
    "empiric_up_smarttv = scipy.stats.ecdf(dataset_smarttv['bytes_up'])\n",
    "plt.figure()\n",
    "ax = plt.subplot()\n",
    "empiric_up_smarttv.cdf.plot(ax)\n",
    "ax.set_xlabel(\"Upload (Smart TV)\")\n",
    "ax.set_ylabel(\"Função Distribuição Empírica\")"
   ]
  },
  {
   "cell_type": "code",
   "execution_count": null,
   "metadata": {},
   "outputs": [],
   "source": [
    "print(\"Médias das amostras\")\n",
    "mean_down_chromecast = dataset_chromecast['bytes_down'].mean()\n",
    "print(\"Download (Chromecast): \", mean_down_chromecast)\n",
    "mean_up_chromecast = dataset_chromecast['bytes_up'].mean()\n",
    "print(\"Upload (Chromecast): \", mean_up_chromecast)\n",
    "mean_down_smarttv = dataset_smarttv['bytes_down'].mean()\n",
    "print(\"Download (Smart TV): \", mean_down_smarttv)\n",
    "mean_up_smarttv = dataset_smarttv['bytes_up'].mean()\n",
    "print(\"Upload (Smart TV): \", mean_up_smarttv)"
   ]
  },
  {
   "cell_type": "code",
   "execution_count": null,
   "metadata": {},
   "outputs": [],
   "source": [
    "print(\"Variância das amostras\")\n",
    "var_down_chromecast = dataset_chromecast['bytes_down'].var()\n",
    "print(\"Download (Chromecast): \", var_down_chromecast)\n",
    "var_up_chromecast = dataset_chromecast['bytes_up'].var()\n",
    "print(\"Upload (Chromecast): \", var_up_chromecast)\n",
    "var_down_smarttv = dataset_smarttv['bytes_down'].var()\n",
    "print(\"Download (Smart TV): \", var_down_smarttv)\n",
    "var_up_smarttv = dataset_smarttv['bytes_up'].var()\n",
    "print(\"Upload (Smart TV): \", var_up_smarttv)"
   ]
  },
  {
   "cell_type": "code",
   "execution_count": null,
   "metadata": {},
   "outputs": [],
   "source": [
    "print(\"Desvio padrão das amostras\")\n",
    "std_down_chromecast = dataset_chromecast['bytes_down'].std()\n",
    "print(\"Download (Chromecast): \", std_down_chromecast)\n",
    "std_up_chromecast = dataset_chromecast['bytes_up'].std()\n",
    "print(\"Upload (Chromecast): \", std_up_chromecast)\n",
    "std_down_smarttv = dataset_smarttv['bytes_down'].std()\n",
    "print(\"Download (Smart TV): \", std_down_smarttv)\n",
    "std_up_smarttv = dataset_smarttv['bytes_up'].std()\n",
    "print(\"Upload (Smart TV): \", std_up_smarttv)"
   ]
  },
  {
   "cell_type": "code",
   "execution_count": null,
   "metadata": {},
   "outputs": [],
   "source": [
    "fig, axs = plt.subplots(2, 2)\n",
    "\n",
    "axs[0,0].boxplot(dataset_chromecast['bytes_down'])\n",
    "axs[0,0].set_title('Download (Chromecast)')\n",
    "axs[0,1].boxplot(dataset_chromecast['bytes_up'])\n",
    "axs[0,1].set_title('Upload (Chromecast)')\n",
    "axs[1,0].boxplot(dataset_smarttv['bytes_down'])\n",
    "axs[1,0].set_title('Download (Smart TV)')\n",
    "axs[1,1].boxplot(dataset_smarttv['bytes_up'])\n",
    "axs[1,1].set_title('Upload (Smart TV))')\n",
    "\n"
   ]
  }
 ],
 "metadata": {
  "kernelspec": {
   "display_name": "Python 3",
   "language": "python",
   "name": "python3"
  },
  "language_info": {
   "codemirror_mode": {
    "name": "ipython",
    "version": 3
   },
   "file_extension": ".py",
   "mimetype": "text/x-python",
   "name": "python",
   "nbconvert_exporter": "python",
   "pygments_lexer": "ipython3",
   "version": "3.12.1"
  }
 },
 "nbformat": 4,
 "nbformat_minor": 2
}
