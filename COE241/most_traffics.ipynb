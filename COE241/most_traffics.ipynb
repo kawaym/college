{
 "cells": [
  {
   "cell_type": "code",
   "execution_count": null,
   "metadata": {},
   "outputs": [],
   "source": [
    "import pandas as pd \n",
    "import matplotlib.pyplot as plt \n",
    "import math\n",
    "import numpy as np\n",
    "import statsmodels.api as sm\n",
    "from statsmodels.graphics.gofplots import qqplot_2samples\n",
    "from scipy.stats import pearsonr\n",
    "\n",
    "dataset_chromecast = pd.read_csv('dataset_chromecast.csv')\n",
    "dataset_smarttv = pd.read_csv('dataset_smart-tv.csv')\n",
    "\n",
    "dataset_chromecast['hour'] = dataset_chromecast['date_hour'].apply(lambda x: int(x.split(\" \")[1].split(\":\")[0]))\n",
    "dataset_chromecast['bytes_up'] = dataset_chromecast['bytes_up'].apply(lambda x: math.log(x, 10) if x != 0 else 0)\n",
    "dataset_chromecast['bytes_down'] = dataset_chromecast['bytes_down'].apply(lambda x: math.log(x, 10) if x != 0 else 0)\n",
    "dataset_smarttv['hour'] = dataset_smarttv['date_hour'].apply(lambda x: int(x.split(\" \")[1].split(\":\")[0]))\n",
    "dataset_smarttv['bytes_up'] = dataset_smarttv['bytes_up'].apply(lambda x: math.log(x, 10) if x != 0 else 0)\n",
    "dataset_smarttv['bytes_down'] = dataset_smarttv['bytes_down'].apply(lambda x: math.log(x, 10) if x != 0 else 0)\n",
    "\n",
    "DATASET_1 = dataset_chromecast[dataset_chromecast['hour'] == 23][['bytes_down']]\n",
    "DATASET_2 = dataset_chromecast[dataset_chromecast['hour'] == 23][['bytes_up']]\n",
    "\n",
    "DATASET_3 = dataset_smarttv[dataset_smarttv['hour'] == 20][['bytes_down']]\n",
    "DATASET_4 = dataset_smarttv[dataset_smarttv['hour'] == 20][['bytes_up']]"
   ]
  },
  {
   "cell_type": "code",
   "execution_count": null,
   "metadata": {},
   "outputs": [],
   "source": [
    "bins_dataset_1 = math.ceil(1 + 3.322 * math.log(DATASET_1.shape[0], 10))\n",
    "\n",
    "plt.hist(DATASET_1, bins=bins_dataset_1, color='blue', alpha=0.7)\n",
    "plt.title(\"Dataset 1\")\n",
    "plt.show()\n",
    "\n",
    "bins_dataset_3 = math.ceil(1 + 3.322 * math.log(DATASET_2.shape[0], 10))\n",
    "\n",
    "plt.hist(DATASET_3, bins=bins_dataset_3, color='blue', alpha=0.7)\n",
    "plt.title(\"Dataset 3\")\n",
    "plt.show()\n",
    "\n",
    "dataset_1_quantis = np.percentile(DATASET_1, np.arange(0, 100, 1))\n",
    "dataset_3_quantis = np.percentile(DATASET_3, np.arange(0, 100, 1))\n",
    "\n",
    "dataset_3_interp = np.interp(np.sort(DATASET_3), dataset_1_quantis, dataset_3_quantis)\n",
    "\n",
    "qqplot_2samples(np.sort(DATASET_1, axis=0), dataset_3_interp, xlabel=\"Chromecast - Download\", ylabel=\"Smart TV - Download\", line='r')\n"
   ]
  },
  {
   "cell_type": "code",
   "execution_count": null,
   "metadata": {},
   "outputs": [],
   "source": [
    "bins_dataset_2 = math.ceil(1 + 3.322 * math.log(DATASET_2.shape[0], 10))\n",
    "\n",
    "plt.hist(DATASET_2, bins=bins_dataset_2, color='blue', alpha=0.7)\n",
    "plt.title(\"Dataset 2\")\n",
    "plt.show()\n",
    "\n",
    "bins_dataset_4 = math.ceil(1 + 3.322 * math.log(DATASET_4.shape[0], 10))\n",
    "\n",
    "plt.hist(DATASET_4, bins=bins_dataset_4, color='blue', alpha=0.7)\n",
    "plt.title(\"Dataset 4\")\n",
    "plt.show()\n",
    "\n",
    "dataset_2_quantis = np.percentile(DATASET_2, np.arange(0, 100, 1))\n",
    "dataset_4_quantis = np.percentile(DATASET_4, np.arange(0, 100, 1))\n",
    "\n",
    "dataset_4_interp = np.interp(np.sort(DATASET_4), dataset_2_quantis, dataset_4_quantis)\n",
    "\n",
    "qqplot_2samples(np.sort(DATASET_2, axis=0), dataset_4_interp, xlabel=\"Chromecast - Download\", ylabel=\"Smart TV - Download\", line='r')"
   ]
  },
  {
   "cell_type": "code",
   "execution_count": null,
   "metadata": {},
   "outputs": [],
   "source": [
    "print(DATASET_1['bytes_down'].shape)\n",
    "print(DATASET_2['bytes_up'].shape)\n",
    "\n",
    "coeficiente, p_value = pearsonr(DATASET_1['bytes_down'], DATASET_2['bytes_up'])\n",
    "print(\"Coeficiente de correlação: \", coeficiente)\n",
    "print(\"P-value: \", p_value)\n",
    "\n",
    "plt.scatter(np.sort(DATASET_1, axis=0), np.sort(DATASET_2, axis=0))\n",
    "plt.xlabel(\"Bytes Down\")\n",
    "plt.ylabel(\"Bytes Up\")\n",
    "plt.title(\"Scatterplot entre os Dataset 1 e 2\")"
   ]
  },
  {
   "cell_type": "code",
   "execution_count": null,
   "metadata": {},
   "outputs": [],
   "source": [
    "print(DATASET_3['bytes_down'].shape)\n",
    "print(DATASET_4['bytes_up'].shape)\n",
    "\n",
    "coeficiente, p_value = pearsonr(DATASET_3['bytes_down'], DATASET_4['bytes_up'])\n",
    "print(\"Coeficiente de correlação: \", coeficiente)\n",
    "print(\"P-value: \", p_value)\n",
    "\n",
    "plt.scatter(np.sort(DATASET_3, axis=0), np.sort(DATASET_4, axis=0))\n",
    "plt.xlabel(\"Bytes Down\")\n",
    "plt.ylabel(\"Bytes Up\")\n",
    "plt.title(\"Scatterplot entre os Dataset 3 e 4\")"
   ]
  }
 ],
 "metadata": {
  "kernelspec": {
   "display_name": "Python 3",
   "language": "python",
   "name": "python3"
  },
  "language_info": {
   "codemirror_mode": {
    "name": "ipython",
    "version": 3
   },
   "file_extension": ".py",
   "mimetype": "text/x-python",
   "name": "python",
   "nbconvert_exporter": "python",
   "pygments_lexer": "ipython3",
   "version": "3.12.1"
  }
 },
 "nbformat": 4,
 "nbformat_minor": 2
}
